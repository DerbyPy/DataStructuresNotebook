{
 "cells": [
  {
   "cell_type": "markdown",
   "metadata": {},
   "source": [
    "# Data structures in python"
   ]
  },
  {
   "cell_type": "markdown",
   "metadata": {},
   "source": [
    "### Lists are mutable data structures than can contain a collection of items"
   ]
  },
  {
   "cell_type": "code",
   "execution_count": 41,
   "metadata": {},
   "outputs": [
    {
     "name": "stdout",
     "output_type": "stream",
     "text": [
      "3\n",
      "[1, 2]\n",
      "True\n",
      "['__add__', '__class__', '__contains__', '__delattr__', '__delitem__', '__dir__', '__doc__', '__eq__', '__format__', '__ge__', '__getattribute__', '__getitem__', '__gt__', '__hash__', '__iadd__', '__imul__', '__init__', '__init_subclass__', '__iter__', '__le__', '__len__', '__lt__', '__mul__', '__ne__', '__new__', '__reduce__', '__reduce_ex__', '__repr__', '__reversed__', '__rmul__', '__setattr__', '__setitem__', '__sizeof__', '__str__', '__subclasshook__', 'append', 'clear', 'copy', 'count', 'extend', 'index', 'insert', 'pop', 'remove', 'reverse', 'sort']\n"
     ]
    }
   ],
   "source": [
    "# Lists\n",
    "my_list = [1, 2, 3, 4]\n",
    "# Mutable collections\n",
    "\n",
    "print(my_list[2])\n",
    "print(my_list[0:2])\n",
    "print(3 in my_list)\n",
    "print(dir(my_list))"
   ]
  },
  {
   "cell_type": "markdown",
   "metadata": {},
   "source": [
    "## Tuples are immutable collections of items "
   ]
  },
  {
   "cell_type": "code",
   "execution_count": 43,
   "metadata": {},
   "outputs": [
    {
     "name": "stdout",
     "output_type": "stream",
     "text": [
      "15\n",
      "True\n",
      "['__add__', '__class__', '__contains__', '__delattr__', '__dir__', '__doc__', '__eq__', '__format__', '__ge__', '__getattribute__', '__getitem__', '__getnewargs__', '__gt__', '__hash__', '__init__', '__init_subclass__', '__iter__', '__le__', '__len__', '__lt__', '__mul__', '__ne__', '__new__', '__reduce__', '__reduce_ex__', '__repr__', '__rmul__', '__setattr__', '__sizeof__', '__str__', '__subclasshook__', 'count', 'index']\n"
     ]
    }
   ],
   "source": [
    "# Tuples \n",
    "my_tuple = (15, 2)\n",
    "print(my_tuple[0])\n",
    "print(15 in my_tuple)\n",
    "print(dir(my_tuple))"
   ]
  },
  {
   "cell_type": "markdown",
   "metadata": {},
   "source": [
    "##  Dictionaries are key: value collection of items.\n",
    "\n",
    " Keys must be hashable"
   ]
  },
  {
   "cell_type": "code",
   "execution_count": 46,
   "metadata": {},
   "outputs": [
    {
     "name": "stdout",
     "output_type": "stream",
     "text": [
      "{'name': 'Colan Connon', 'age': 25, 'hobbies': ['programming']}\n",
      "dict_keys(['colan'])\n",
      "dict_values([{'name': 'Colan Connon', 'age': 25, 'hobbies': ['programming']}])\n",
      "colan\n",
      "{'name': 'Colan Connon', 'age': 25, 'hobbies': ['programming']}\n",
      "['__class__', '__contains__', '__delattr__', '__delitem__', '__dir__', '__doc__', '__eq__', '__format__', '__ge__', '__getattribute__', '__getitem__', '__gt__', '__hash__', '__init__', '__init_subclass__', '__iter__', '__le__', '__len__', '__lt__', '__ne__', '__new__', '__reduce__', '__reduce_ex__', '__repr__', '__setattr__', '__setitem__', '__sizeof__', '__str__', '__subclasshook__', 'clear', 'copy', 'fromkeys', 'get', 'items', 'keys', 'pop', 'popitem', 'setdefault', 'update', 'values']\n",
      "9123711486637184410\n",
      "{'name': 'Colan Connon', 'age': 25, 'hobbies': ['programming']}\n"
     ]
    }
   ],
   "source": [
    "# Dictionaries\n",
    "my_dict = {\n",
    "    'colan': {'name': 'Colan Connon', 'age': 25, 'hobbies': ['programming']},\n",
    "}\n",
    "print(my_dict['colan'])\n",
    "print(my_dict.keys())\n",
    "print(my_dict.values())\n",
    "for key, value in my_dict.items():\n",
    "    print(key)\n",
    "    print(value)\n",
    "print(dir(my_dict))\n",
    "print('Colan'.__hash__())\n",
    "print(my_dict['colan'])\n"
   ]
  },
  {
   "cell_type": "code",
   "execution_count": 18,
   "metadata": {},
   "outputs": [
    {
     "name": "stdout",
     "output_type": "stream",
     "text": [
      "{1, 2, 3, 4, 5}\n",
      "{1, 3}\n",
      "None\n",
      "{1, 3, 5}\n",
      "{2, 4}\n",
      "['__and__', '__class__', '__contains__', '__delattr__', '__dir__', '__doc__', '__eq__', '__format__', '__ge__', '__getattribute__', '__gt__', '__hash__', '__iand__', '__init__', '__init_subclass__', '__ior__', '__isub__', '__iter__', '__ixor__', '__le__', '__len__', '__lt__', '__ne__', '__new__', '__or__', '__rand__', '__reduce__', '__reduce_ex__', '__repr__', '__ror__', '__rsub__', '__rxor__', '__setattr__', '__sizeof__', '__str__', '__sub__', '__subclasshook__', '__xor__', 'add', 'clear', 'copy', 'difference', 'difference_update', 'discard', 'intersection', 'intersection_update', 'isdisjoint', 'issubset', 'issuperset', 'pop', 'remove', 'symmetric_difference', 'symmetric_difference_update', 'union', 'update']\n",
      "['Colan']\n"
     ]
    }
   ],
   "source": [
    "# Sets\n",
    "my_set = {1, 2, 3, 4, 5, 5}\n",
    "my_set2 = {1, 3}\n",
    "print(my_set)\n",
    "print(my_set.intersection(my_set2))\n",
    "print(my_set2.add(5))\n",
    "print(my_set.intersection(my_set2))\n",
    "print(my_set.difference(my_set2))\n",
    "print(dir(my_set))\n",
    "\n",
    "# Using a set to make a list unique\n",
    "my_list2 = ['Colan', 'Colan']\n",
    "print(list(set(my_list2)))"
   ]
  },
  {
   "cell_type": "code",
   "execution_count": null,
   "metadata": {},
   "outputs": [],
   "source": [
    "set1 = set()\n",
    "list1 = []\n",
    "for i in range(100000):\n",
    "    set1.add('Colan{}'.format(i))\n",
    "    list1.append('Colan{}'.format(i))\n",
    "\n",
    "    \n",
    "set2 = set()\n",
    "list2 = []\n",
    "for i in range(1000000):\n",
    "    set2.add('Colan{}'.format(i))\n",
    "    list2.append('Colan{}'.format(i))\n",
    "    \n",
    "import time\n",
    "\n",
    "start = time.time()\n",
    "print('Colan100000' in set1)\n",
    "end = time.time()\n",
    "print(end - start)\n",
    "\n",
    "start = time.time()\n",
    "print('Colan100000' in list1)\n",
    "end = time.time()\n",
    "print(end - start)\n",
    "\n",
    "start = time.time()\n",
    "print('Colan1000000' in set2)\n",
    "end = time.time()\n",
    "print(end - start)\n",
    "\n",
    "start = time.time()\n",
    "print('Colan1000000' in list2)\n",
    "end = time.time()\n",
    "print(end - start)"
   ]
  },
  {
   "cell_type": "code",
   "execution_count": null,
   "metadata": {},
   "outputs": [],
   "source": []
  }
 ],
 "metadata": {
  "kernelspec": {
   "display_name": "Python 3",
   "language": "python",
   "name": "python3"
  },
  "language_info": {
   "codemirror_mode": {
    "name": "ipython",
    "version": 3
   },
   "file_extension": ".py",
   "mimetype": "text/x-python",
   "name": "python",
   "nbconvert_exporter": "python",
   "pygments_lexer": "ipython3",
   "version": "3.6.3"
  }
 },
 "nbformat": 4,
 "nbformat_minor": 2
}
